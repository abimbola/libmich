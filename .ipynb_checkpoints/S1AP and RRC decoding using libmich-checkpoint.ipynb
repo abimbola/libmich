{
 "cells": [
  {
   "cell_type": "markdown",
   "metadata": {},
   "source": [
    "# Prerequisite\n",
    "\n",
    "```\n",
    "python setup.py install\n",
    "```"
   ]
  },
  {
   "cell_type": "code",
   "execution_count": 1,
   "metadata": {
    "collapsed": true
   },
   "outputs": [],
   "source": [
    "#Ensure prerequisites are in completed \n",
    "#Import\n",
    "from libmich.asn1.processor import *"
   ]
  },
  {
   "cell_type": "code",
   "execution_count": 2,
   "metadata": {},
   "outputs": [
    {
     "name": "stdout",
     "output_type": "stream",
     "text": [
      "S1AP: 894 objects loaded into GLOBAL\n"
     ]
    }
   ],
   "source": [
    "#Load S1AP Module (built into libmich) \n",
    "load_module('S1AP')\n",
    "#Specify Encoding\n",
    "ASN1.ASN1Obj.CODEC = PER\n",
    "#Aligned PER\n",
    "PER.VARIANT = 'A'\n",
    "#PDU Type\n",
    "pdu = GLOBAL.TYPE['S1AP-PDU']"
   ]
  },
  {
   "cell_type": "code",
   "execution_count": 3,
   "metadata": {
    "collapsed": true
   },
   "outputs": [],
   "source": [
    "#Sample hexadecimal buffer containing S1AP Per Encoded messahe\n",
    "s1apbuffer = '201100170000020069000b000063f3100000800100010057400132'.decode('hex')\n",
    "\n",
    "#Sample binary file containing RRCLTE PER encoded message\n",
    "rrcltefile = \"messages/f2585_sib5-12.per\"\n",
    "rrcbuffer = open(rrcltefile, 'r').read()"
   ]
  },
  {
   "cell_type": "code",
   "execution_count": 4,
   "metadata": {
    "collapsed": true
   },
   "outputs": [],
   "source": [
    "pdu.decode(s1apbuffer)"
   ]
  },
  {
   "cell_type": "code",
   "execution_count": 33,
   "metadata": {
    "scrolled": true
   },
   "outputs": [
    {
     "name": "stdout",
     "output_type": "stream",
     "text": [
      "('successfulOutcome', {'procedureCode': 17, 'value': ('S1SetupResponse', {'protocolIEs': [{'value': ('ServedGUMMEIs', [{'servedGroupIDs': ['\\x80\\x01'], 'servedPLMNs': ['c\\xf3\\x10'], 'servedMMECs': ['\\x01']}]), 'id': 105, 'criticality': 'reject'}, {'value': ('RelativeMMECapacity', 50), 'id': 87, 'criticality': 'ignore'}]}), 'criticality': 'reject'})\n"
     ]
    }
   ],
   "source": [
    "val = pdu()\n",
    "print val"
   ]
  },
  {
   "cell_type": "code",
   "execution_count": 6,
   "metadata": {},
   "outputs": [
    {
     "data": {
      "text/plain": [
       "{'criticality': 'ignore', 'id': 87, 'value': ('RelativeMMECapacity', 50)}"
      ]
     },
     "execution_count": 6,
     "metadata": {},
     "output_type": "execute_result"
    }
   ],
   "source": [
    "val[1]['value'][1]['protocolIEs'][1]"
   ]
  },
  {
   "cell_type": "code",
   "execution_count": 7,
   "metadata": {},
   "outputs": [
    {
     "data": {
      "text/plain": [
       "{'criticality': 'ignore', 'id': 87, 'value': ('RelativeMMECapacity', 255)}"
      ]
     },
     "execution_count": 7,
     "metadata": {},
     "output_type": "execute_result"
    }
   ],
   "source": [
    "#Update some information\n",
    "val[1]['value'][1]['protocolIEs'][1]['value'] = ('RelativeMMECapacity', 255)\n",
    "#Apply the changes\n",
    "pdu.set_val(val)\n",
    "#Verify\n",
    "val[1]['value'][1]['protocolIEs'][1]"
   ]
  },
  {
   "cell_type": "code",
   "execution_count": 8,
   "metadata": {
    "collapsed": true
   },
   "outputs": [],
   "source": [
    "#You can clear the prevoius modules and codec information if needed\n",
    "#GLOBAL.clear()"
   ]
  },
  {
   "cell_type": "code",
   "execution_count": 9,
   "metadata": {},
   "outputs": [
    {
     "name": "stdout",
     "output_type": "stream",
     "text": [
      "RRCLTE: 859 objects loaded into GLOBAL\n"
     ]
    }
   ],
   "source": [
    "#Load RRCLTE Module (built into libmich)\n",
    "load_module('RRCLTE')\n",
    "#Specify Encoding\n",
    "ASN1.ASN1Obj.CODEC = PER\n",
    "#Unaligned PER\n",
    "PER.VARIANT = 'U'\n",
    "#PDU Type\n",
    "dcch_dl = GLOBAL.TYPE['DL-DCCH-Message']"
   ]
  },
  {
   "cell_type": "code",
   "execution_count": 10,
   "metadata": {
    "collapsed": true
   },
   "outputs": [],
   "source": [
    "dcch_dl.decode(rrcbuffer)"
   ]
  },
  {
   "cell_type": "code",
   "execution_count": 11,
   "metadata": {
    "scrolled": true
   },
   "outputs": [
    {
     "data": {
      "text/plain": [
       "{'message': ('c1',\n",
       "  ('csfbParametersResponseCDMA2000',\n",
       "   {'criticalExtensions': ('csfbParametersResponseCDMA2000-r8',\n",
       "     {'mobilityParameters': 'R\\xb4\\xd7DL\\xa9\\x10Z\\xba\\xa8\\x00\\x00\\x00',\n",
       "      'rand': (413701582, 32)}),\n",
       "    'rrc-TransactionIdentifier': 0}))}"
      ]
     },
     "execution_count": 11,
     "metadata": {},
     "output_type": "execute_result"
    }
   ],
   "source": [
    "dcch_dl()"
   ]
  },
  {
   "cell_type": "markdown",
   "metadata": {},
   "source": [
    "**Notes**\n",
    "\n",
    "[1] Sample RRCLTE PER encoded file is from https://github.com/JiaoXianjun/LTE-Cell-Scanner/tree/master/regression_test_signal_file"
   ]
  },
  {
   "cell_type": "code",
   "execution_count": null,
   "metadata": {
    "collapsed": true
   },
   "outputs": [],
   "source": []
  }
 ],
 "metadata": {
  "kernelspec": {
   "display_name": "Python 2",
   "language": "python",
   "name": "python2"
  },
  "language_info": {
   "codemirror_mode": {
    "name": "ipython",
    "version": 2
   },
   "file_extension": ".py",
   "mimetype": "text/x-python",
   "name": "python",
   "nbconvert_exporter": "python",
   "pygments_lexer": "ipython2",
   "version": "2.7.13"
  }
 },
 "nbformat": 4,
 "nbformat_minor": 2
}
